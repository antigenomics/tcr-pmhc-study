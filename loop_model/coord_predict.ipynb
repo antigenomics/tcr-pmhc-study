{
 "cells": [
  {
   "cell_type": "code",
   "execution_count": 51,
   "metadata": {
    "collapsed": true
   },
   "outputs": [],
   "source": [
    "%matplotlib inline\n",
    "\n",
    "from __future__ import print_function\n",
    "\n",
    "import pandas as pd\n",
    "import seaborn as sns\n",
    "sns.set_style(\"whitegrid\")\n",
    "import numpy as np\n",
    "\n",
    "import matplotlib\n",
    "import matplotlib.pyplot as plt\n",
    "\n",
    "import sklearn\n",
    "from sklearn.linear_model import LinearRegression, ElasticNetCV\n",
    "from sklearn.ensemble import RandomForestRegressor\n",
    "from sklearn.cross_validation import cross_val_score"
   ]
  },
  {
   "cell_type": "code",
   "execution_count": 18,
   "metadata": {
    "collapsed": false
   },
   "outputs": [],
   "source": [
    "df_put_x = np.array(pd.read_csv(\"put_coord_x.csv.gz\")[range(4,16)])\n",
    "df_put_y = np.array(pd.read_csv(\"put_coord_y.csv.gz\")[range(4,16)])\n",
    "df_put_z = np.array(pd.read_csv(\"put_coord_z.csv.gz\")[range(4,16)])\n",
    "\n",
    "df_cdr_x = np.array(pd.read_csv(\"real_coord_x.csv.gz\")[range(4,16)])\n",
    "df_cdr_y = np.array(pd.read_csv(\"real_coord_y.csv.gz\")[range(4,16)])\n",
    "df_cdr_z = np.array(pd.read_csv(\"real_coord_z.csv.gz\")[range(4,16)])"
   ]
  },
  {
   "cell_type": "code",
   "execution_count": 16,
   "metadata": {
    "collapsed": false
   },
   "outputs": [
    {
     "data": {
      "text/plain": [
       "(74528, 12)"
      ]
     },
     "execution_count": 16,
     "metadata": {},
     "output_type": "execute_result"
    }
   ],
   "source": [
    "df_put_x.shape"
   ]
  },
  {
   "cell_type": "code",
   "execution_count": 19,
   "metadata": {
    "collapsed": false
   },
   "outputs": [
    {
     "data": {
      "text/plain": [
       "array([[ 2.43586689,  3.90127186,  5.11286228, ...,  7.66770127,\n",
       "         7.87269825,  6.05443855],\n",
       "       [ 2.60804342,  3.50015585,  5.65116245, ...,  8.72463337,\n",
       "         7.98241625,  6.06922823],\n",
       "       [ 2.55962382,  3.27993583,  5.19256306, ...,  8.22119058,\n",
       "         7.53734334,  6.00559035],\n",
       "       ..., \n",
       "       [ 3.29322052,  3.20848284,  5.27442084, ...,  8.76933968,\n",
       "         8.33344055,  8.52947466],\n",
       "       [ 2.11197878,  3.28549125,  4.62475713, ...,  8.01860187,\n",
       "         7.83522091,  5.5764344 ],\n",
       "       [ 2.20332744,  3.24815293,  4.42216548, ...,  8.02087017,\n",
       "         7.97029427,  5.7988132 ]])"
      ]
     },
     "execution_count": 19,
     "metadata": {},
     "output_type": "execute_result"
    }
   ],
   "source": [
    "df_put_x"
   ]
  },
  {
   "cell_type": "code",
   "execution_count": 21,
   "metadata": {
    "collapsed": false
   },
   "outputs": [
    {
     "data": {
      "text/plain": [
       "(69, 12)"
      ]
     },
     "execution_count": 21,
     "metadata": {},
     "output_type": "execute_result"
    }
   ],
   "source": [
    "df_cdr_x.shape"
   ]
  },
  {
   "cell_type": "markdown",
   "metadata": {},
   "source": [
    "# Z ~ X+Y"
   ]
  },
  {
   "cell_type": "code",
   "execution_count": 52,
   "metadata": {
    "collapsed": false
   },
   "outputs": [
    {
     "name": "stdout",
     "output_type": "stream",
     "text": [
      "0 : [-0.00383525 -0.00485499  0.00024482]\n",
      "1 : [ -6.28158354e-05  -5.80504563e-04  -8.88665208e-04]\n",
      "2 : [-0.00072491 -0.00015492 -0.00055999]\n",
      "3 : [ -7.21878273e-04  -6.24101266e-05  -1.21307685e-03]\n",
      "4 : [-0.00033754 -0.00099955 -0.00020648]\n",
      "5 : [ -9.36756829e-04  -1.23706039e-03  -7.76081002e-05]\n",
      "6 : [-0.00203342 -0.00342854 -0.00021664]\n",
      "7 : [-0.00129169 -0.00010593 -0.00094315]\n",
      "8 : [ -8.00305461e-04  -4.06473349e-04  -8.07486759e-05]\n",
      "9 : [ -7.34567487e-04  -8.40237954e-04  -1.37652253e-05]\n",
      "10 : [-0.00036732 -0.00040805 -0.00010491]\n",
      "11 : [-0.00024432 -0.00290869 -0.00245699]\n"
     ]
    }
   ],
   "source": [
    "for i in range(12):\n",
    "    clf = LinearRegression(n_jobs=12)\n",
    "    val = cross_val_score(clf, np.hstack([df_put_x[:,i], df_put_y[:,i]]).reshape((74528, 2)), df_put_z[:,i].reshape((74528,)), cv=3)\n",
    "    print(i, \":\", val)"
   ]
  },
  {
   "cell_type": "code",
   "execution_count": 53,
   "metadata": {
    "collapsed": false
   },
   "outputs": [
    {
     "name": "stdout",
     "output_type": "stream",
     "text": [
      "0 : [-0.00383521 -0.00484914  0.00024462]\n",
      "1 : [ -3.57255987e-05  -5.53717403e-04  -8.61719056e-04]\n",
      "2 : [-0.00063902 -0.00010589 -0.00061343]\n",
      "3 : [ -7.21715907e-04  -7.08064827e-05  -1.21285521e-03]\n",
      "4 : [-0.00026065 -0.00099747 -0.00024259]\n",
      "5 : [ -6.54379383e-04  -1.22555435e-03  -6.67632398e-05]\n",
      "6 : [-0.00162872 -0.00337663 -0.00017667]\n",
      "7 : [ -1.36054867e-03  -4.70533953e-05  -9.33646414e-04]\n",
      "8 : [-0.000798   -0.00019533 -0.00011885]\n",
      "9 : [ -5.58731182e-04  -7.89164753e-04  -1.62326873e-05]\n",
      "10 : [ -3.90876265e-04  -2.94711105e-04  -9.83992865e-05]\n",
      "11 : [-0.00021554 -0.00281465 -0.00266604]\n"
     ]
    }
   ],
   "source": [
    "for i in range(12):\n",
    "    clf = ElasticNetCV(cv=3, n_jobs=12)\n",
    "    val = cross_val_score(clf, np.hstack([df_put_x[:,i], df_put_y[:,i]]).reshape((74528, 2)), df_put_z[:,i].reshape((74528,)), cv=3)\n",
    "    print(i, \":\", val)"
   ]
  },
  {
   "cell_type": "code",
   "execution_count": 48,
   "metadata": {
    "collapsed": false
   },
   "outputs": [
    {
     "data": {
      "text/plain": [
       "array([-0.39043807, -0.4179993 , -0.42868115])"
      ]
     },
     "execution_count": 48,
     "metadata": {},
     "output_type": "execute_result"
    }
   ],
   "source": [
    "clf = RandomForestRegressor(300, n_jobs=12)\n",
    "cross_val_score(clf, np.hstack([df_put_x[:,1], df_put_y[:,1]]).reshape((74528, 2)), df_put_z[:,1].reshape((74528,)), cv=3)"
   ]
  },
  {
   "cell_type": "code",
   "execution_count": 47,
   "metadata": {
    "collapsed": false
   },
   "outputs": [
    {
     "data": {
      "text/plain": [
       "array([-0.38747448, -0.41657679, -0.42690516])"
      ]
     },
     "execution_count": 47,
     "metadata": {},
     "output_type": "execute_result"
    }
   ],
   "source": [
    "clf = RandomForestRegressor(1000, n_jobs=12)\n",
    "cross_val_score(clf, np.hstack([df_put_x[:,1], df_put_y[:,1]]).reshape((74528, 2)), df_put_z[:,1].reshape((74528,)), cv=3)"
   ]
  },
  {
   "cell_type": "code",
   "execution_count": 40,
   "metadata": {
    "collapsed": false
   },
   "outputs": [
    {
     "data": {
      "text/plain": [
       "array([[ 3.90127186,  3.50015585],\n",
       "       [ 3.27993583,  3.45859082],\n",
       "       [ 3.34235831,  3.36459879],\n",
       "       ..., \n",
       "       [ 3.74428508,  3.56357609],\n",
       "       [ 2.97333992,  3.20848284],\n",
       "       [ 3.28549125,  3.24815293]])"
      ]
     },
     "execution_count": 40,
     "metadata": {},
     "output_type": "execute_result"
    }
   ],
   "source": [
    "np.hstack([df_put_x[:,1], df_put_y[:,1]]).reshape((74528, 2))"
   ]
  }
 ],
 "metadata": {
  "kernelspec": {
   "display_name": "Python [conda root]",
   "language": "python",
   "name": "conda-root-py"
  },
  "language_info": {
   "codemirror_mode": {
    "name": "ipython",
    "version": 2
   },
   "file_extension": ".py",
   "mimetype": "text/x-python",
   "name": "python",
   "nbconvert_exporter": "python",
   "pygments_lexer": "ipython2",
   "version": "2.7.13"
  }
 },
 "nbformat": 4,
 "nbformat_minor": 2
}
