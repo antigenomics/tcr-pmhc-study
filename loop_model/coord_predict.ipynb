{
 "cells": [
  {
   "cell_type": "code",
   "execution_count": 26,
   "metadata": {
    "collapsed": false,
    "deletable": true,
    "editable": true
   },
   "outputs": [],
   "source": [
    "%matplotlib inline\n",
    "\n",
    "from __future__ import print_function\n",
    "\n",
    "import pandas as pd\n",
    "import seaborn as sns\n",
    "sns.set_style(\"whitegrid\")\n",
    "import numpy as np\n",
    "\n",
    "import matplotlib\n",
    "import matplotlib.pyplot as plt\n",
    "\n",
    "import sklearn\n",
    "from sklearn.linear_model import LinearRegression, ElasticNetCV\n",
    "from sklearn.ensemble import RandomForestRegressor\n",
    "from sklearn.cross_validation import cross_val_score, StratifiedKFold, train_test_split"
   ]
  },
  {
   "cell_type": "code",
   "execution_count": 58,
   "metadata": {
    "collapsed": false,
    "deletable": true,
    "editable": true
   },
   "outputs": [],
   "source": [
    "df_put_x = np.array(pd.read_csv(\"put_coord_x.csv.gz\")[range(4,16)])\n",
    "df_put_y = np.array(pd.read_csv(\"put_coord_y.csv.gz\")[range(4,16)])\n",
    "df_put_z = np.array(pd.read_csv(\"put_coord_z.csv.gz\")[range(4,16)])\n",
    "\n",
    "df_cdr_x = np.array(pd.read_csv(\"real_coord_x.csv.gz\")[range(4,16)])\n",
    "df_cdr_y = np.array(pd.read_csv(\"real_coord_y.csv.gz\")[range(4,16)])\n",
    "df_cdr_z = np.array(pd.read_csv(\"real_coord_z.csv.gz\")[range(4,16)])"
   ]
  },
  {
   "cell_type": "code",
   "execution_count": 16,
   "metadata": {
    "collapsed": false,
    "deletable": true,
    "editable": true
   },
   "outputs": [
    {
     "data": {
      "text/plain": [
       "(74528, 12)"
      ]
     },
     "execution_count": 16,
     "metadata": {},
     "output_type": "execute_result"
    }
   ],
   "source": [
    "df_put_x.shape"
   ]
  },
  {
   "cell_type": "code",
   "execution_count": 18,
   "metadata": {
    "collapsed": false,
    "deletable": true,
    "editable": true
   },
   "outputs": [
    {
     "data": {
      "text/plain": [
       "array([[ 2.43586689,  3.90127186,  5.11286228, ...,  7.66770127,\n",
       "         7.87269825,  6.05443855],\n",
       "       [ 2.60804342,  3.50015585,  5.65116245, ...,  8.72463337,\n",
       "         7.98241625,  6.06922823],\n",
       "       [ 2.55962382,  3.27993583,  5.19256306, ...,  8.22119058,\n",
       "         7.53734334,  6.00559035],\n",
       "       ..., \n",
       "       [ 3.29322052,  3.20848284,  5.27442084, ...,  8.76933968,\n",
       "         8.33344055,  8.52947466],\n",
       "       [ 2.11197878,  3.28549125,  4.62475713, ...,  8.01860187,\n",
       "         7.83522091,  5.5764344 ],\n",
       "       [ 2.20332744,  3.24815293,  4.42216548, ...,  8.02087017,\n",
       "         7.97029427,  5.7988132 ]])"
      ]
     },
     "execution_count": 18,
     "metadata": {},
     "output_type": "execute_result"
    }
   ],
   "source": [
    "df_put_x"
   ]
  },
  {
   "cell_type": "code",
   "execution_count": 21,
   "metadata": {
    "collapsed": false,
    "deletable": true,
    "editable": true
   },
   "outputs": [
    {
     "data": {
      "text/plain": [
       "(69, 12)"
      ]
     },
     "execution_count": 21,
     "metadata": {},
     "output_type": "execute_result"
    }
   ],
   "source": [
    "df_cdr_x.shape"
   ]
  },
  {
   "cell_type": "markdown",
   "metadata": {
    "deletable": true,
    "editable": true
   },
   "source": [
    "# Z ~ X+Y"
   ]
  },
  {
   "cell_type": "code",
   "execution_count": 63,
   "metadata": {
    "collapsed": false,
    "deletable": true,
    "editable": true
   },
   "outputs": [
    {
     "name": "stdout",
     "output_type": "stream",
     "text": [
      "0 : -0.00248699446653 0.00285925494595\n",
      "1 : -0.00191991594045 0.00163396751813\n",
      "2 : -0.00228329050212 0.00197020998212\n",
      "3 : -0.00296635158089 0.00258995407574\n",
      "4 : -0.00226061253744 0.0035513445859\n",
      "5 : -0.00134721586251 0.00240254620867\n",
      "6 : -0.00236206824339 0.00264135268318\n",
      "7 : -0.00318462445631 0.00343313561609\n",
      "8 : -0.00229832651758 0.00218701885113\n",
      "9 : -0.00144017667629 0.000951347390992\n",
      "10 : -0.00196221771892 0.00252774682047\n",
      "11 : -0.00269058245372 0.00266234323021\n"
     ]
    }
   ],
   "source": [
    "for i in range(12):\n",
    "    clf = LinearRegression(n_jobs=12)\n",
    "    val = cross_val_score(clf, np.hstack([df_put_x[:,i], df_put_y[:,i]]).reshape((74528, 2)), df_put_z[:,i].reshape((74528,)), cv=10)\n",
    "    print(i, \":\", val.mean(), val.std())"
   ]
  },
  {
   "cell_type": "code",
   "execution_count": 57,
   "metadata": {
    "collapsed": false,
    "deletable": true,
    "editable": true
   },
   "outputs": [
    {
     "name": "stdout",
     "output_type": "stream",
     "text": [
      "0 : -0.0026398365841 0.00276185194683\n",
      "1 : -0.00176091743392 0.00149203663874\n",
      "2 : -0.00228243051746 0.00197263754943\n",
      "3 : -0.00294576155888 0.00259150095227\n",
      "4 : -0.00223891121675 0.00345143345518\n",
      "5 : -0.00128309944396 0.00240458018775\n",
      "6 : -0.00225685927999 0.00257236983287\n",
      "7 : -0.00322899329933 0.00342071468888\n",
      "8 : -0.00229520613421 0.00224810544553\n",
      "9 : -0.00135408066473 0.0009000323125\n",
      "10 : -0.00185924728089 0.00237741244011\n",
      "11 : -0.00287706927723 0.00255657663236\n"
     ]
    }
   ],
   "source": [
    "for i in range(12):\n",
    "    clf = ElasticNetCV(cv=10, n_jobs=12)\n",
    "    val = cross_val_score(clf, np.hstack([df_put_x[:,i], df_put_y[:,i]]).reshape((74528, 2)), df_put_z[:,i].reshape((74528,)), cv=10)\n",
    "    print(i, \":\", val.mean(), val.std())"
   ]
  },
  {
   "cell_type": "code",
   "execution_count": 65,
   "metadata": {
    "collapsed": false
   },
   "outputs": [
    {
     "data": {
      "image/png": "[encoded data removed]",
      "text/plain": [
       "<matplotlib.figure.Figure at 0x7f9e5d390e90>"
      ]
     },
     "metadata": {},
     "output_type": "display_data"
    }
   ],
   "source": [
    "fig, ax = plt.subplots(1,1)\n",
    "\n",
    "\n",
    "# pred = np.zeros((24595,12))\n",
    "# y_test_arr = np.zeros((24595,12))\n",
    "# for i in range(12):\n",
    "#     X_train, X_test, y_train, y_test = train_test_split(np.hstack([df_put_x[:,i], df_put_y[:,i]]).reshape((74528, 2)), \n",
    "#                                                         df_put_z[:,i].reshape((74528,)), test_size=.33, \n",
    "#                                                         random_state=42)\n",
    "#     clf = ElasticNetCV(cv=10, n_jobs=12, normalize=False)\n",
    "#     clf.fit(X_train, y_train)\n",
    "#     pred[:,i] = clf.predict(X_test)\n",
    "#     y_test_arr[:,i] = y_test\n",
    "    \n",
    "    \n",
    "for i in range(14):\n",
    "    ax.plot(range(12), y_test_arr[i], c=\"black\")#, alpha=.05)\n",
    "    ax.plot(range(12), pred[i], c=\"red\", linestyle=\"dotted\")#, alpha=.05)\n",
    "    \n",
    "# for i in range(500, 1000):\n",
    "#     ax.plot(range(12), y_test_arr[i], c=\"black\", alpha=.05)\n",
    "#     ax.plot(range(12), pred[i], c=\"dodgerblue\", linestyle=\"dotted\", alpha=.05)"
   ]
  },
  {
   "cell_type": "code",
   "execution_count": 48,
   "metadata": {
    "collapsed": false,
    "deletable": true,
    "editable": true
   },
   "outputs": [
    {
     "data": {
      "text/plain": [
       "array([-0.39043807, -0.4179993 , -0.42868115])"
      ]
     },
     "execution_count": 48,
     "metadata": {},
     "output_type": "execute_result"
    }
   ],
   "source": [
    "clf = RandomForestRegressor(300, n_jobs=12)\n",
    "cross_val_score(clf, np.hstack([df_put_x[:,1], df_put_y[:,1]]).reshape((74528, 2)), df_put_z[:,1].reshape((74528,)), cv=3)"
   ]
  },
  {
   "cell_type": "code",
   "execution_count": 47,
   "metadata": {
    "collapsed": false,
    "deletable": true,
    "editable": true
   },
   "outputs": [
    {
     "data": {
      "text/plain": [
       "array([-0.38747448, -0.41657679, -0.42690516])"
      ]
     },
     "execution_count": 47,
     "metadata": {},
     "output_type": "execute_result"
    }
   ],
   "source": [
    "clf = RandomForestRegressor(1000, n_jobs=12)\n",
    "cross_val_score(clf, np.hstack([df_put_x[:,1], df_put_y[:,1]]).reshape((74528, 2)), df_put_z[:,1].reshape((74528,)), cv=3)"
   ]
  },
  {
   "cell_type": "markdown",
   "metadata": {
    "collapsed": false,
    "deletable": true,
    "editable": true
   },
   "source": [
    "# X ~ Y+Z"
   ]
  },
  {
   "cell_type": "code",
   "execution_count": 62,
   "metadata": {
    "collapsed": false
   },
   "outputs": [
    {
     "name": "stdout",
     "output_type": "stream",
     "text": [
      "0 : -0.0028151402829 0.00220340356093\n",
      "1 : -0.000510661868694 0.000340749466002\n",
      "2 : -0.000479939474096 0.000239479908334\n",
      "3 : -0.000665788416044 0.000471429054541\n",
      "4 : -0.000514524068902 0.000347115032062\n",
      "5 : -0.000750475104955 0.000491330208821\n",
      "6 : -0.00189286837666 0.00131501350156\n",
      "7 : -0.000780256404555 0.000497598439006\n",
      "8 : -0.000429175828487 0.000294196129239\n",
      "9 : -0.000529523555579 0.000367238844508\n",
      "10 : -0.000293426591378 0.000134336005972\n",
      "11 : -0.00186999873361 0.00116422424194\n"
     ]
    }
   ],
   "source": [
    "for i in range(12):\n",
    "    clf = LinearRegression(n_jobs=12)\n",
    "    val = cross_val_score(clf, np.hstack([df_put_y[:,i], df_put_z[:,i]]).reshape((74528, 2)), df_put_x[:,i].reshape((74528,)), cv=3)\n",
    "    print(i, \":\", val.mean(), val.std())"
   ]
  },
  {
   "cell_type": "code",
   "execution_count": 59,
   "metadata": {
    "collapsed": false
   },
   "outputs": [
    {
     "name": "stdout",
     "output_type": "stream",
     "text": [
      "0 : -0.0026398365841 0.00276185194683\n",
      "1 : -0.00176091743392 0.00149203663874\n",
      "2 : -0.00228243051746 0.00197263754943\n",
      "3 : -0.00294576155888 0.00259150095227\n",
      "4 : -0.00223891121675 0.00345143345518\n",
      "5 : -0.00128309944396 0.00240458018775\n",
      "6 : -0.00225685927999 0.00257236983287\n",
      "7 : -0.00322899329933 0.00342071468888\n",
      "8 : -0.00229520613421 0.00224810544553\n",
      "9 : -0.00135408066473 0.0009000323125\n",
      "10 : -0.00185924728089 0.00237741244011\n",
      "11 : -0.00287706927723 0.00255657663236\n"
     ]
    }
   ],
   "source": [
    "for i in range(12):\n",
    "    clf = ElasticNetCV(cv=10, n_jobs=12)\n",
    "    val = cross_val_score(clf, np.hstack([df_put_y[:,i], df_put_z[:,i]]).reshape((74528, 2)), df_put_x[:,i].reshape((74528,)), cv=10)\n",
    "    print(i, \":\", val.mean(), val.std())"
   ]
  }
 ],
 "metadata": {
  "kernelspec": {
   "display_name": "Python [conda root]",
   "language": "python",
   "name": "conda-root-py"
  },
  "language_info": {
   "codemirror_mode": {
    "name": "ipython",
    "version": 2
   },
   "file_extension": ".py",
   "mimetype": "text/x-python",
   "name": "python",
   "nbconvert_exporter": "python",
   "pygments_lexer": "ipython2",
   "version": "2.7.13"
  }
 },
 "nbformat": 4,
 "nbformat_minor": 2
}
