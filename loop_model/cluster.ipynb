{
 "cells": [
  {
   "cell_type": "code",
   "execution_count": 1,
   "metadata": {
    "collapsed": true,
    "deletable": true,
    "editable": true
   },
   "outputs": [],
   "source": [
    "%matplotlib inline\n",
    "\n",
    "import pandas as pd\n",
    "import seaborn as sns\n",
    "sns.set_style(\"whitegrid\")\n",
    "import numpy as np\n",
    "\n",
    "import matplotlib\n",
    "import matplotlib.pyplot as plt\n",
    "\n",
    "import scipy.stats as stats\n",
    "\n",
    "from sklearn.cluster import KMeans, MiniBatchKMeans\n",
    "from sklearn.metrics import silhouette_samples, silhouette_score"
   ]
  },
  {
   "cell_type": "code",
   "execution_count": 2,
   "metadata": {
    "collapsed": false,
    "deletable": true,
    "editable": true
   },
   "outputs": [
    {
     "name": "stdout",
     "output_type": "stream",
     "text": [
      "Index([u'pdb_id_kmer', u'chain_id_kmer', u'start_kmer', u'len_tcr', u'pos_tcr',\n",
      "       u'aa_kmer', u'x_kmer', u'y_kmer', u'z_kmer', u'rmsd'],\n",
      "      dtype='object')\n",
      "False\n",
      "False\n"
     ]
    }
   ],
   "source": [
    "MAX_POS=12\n",
    "\n",
    "df_put = pd.read_table(\"loops_13.putative_cdr.txt.gz\", sep=\"\\t\")\n",
    "df_cdr = pd.read_table(\"loops_13.real_cdr.txt.gz\", sep=\"\\t\")\n",
    "\n",
    "for key in set(df_put[\"pdb_id_kmer\"]).intersection(df_cdr[\"pdb_id\"]):\n",
    "    df_put = df_put.loc[df_put[\"pdb_id_kmer\"] != key,:]\n",
    "    \n",
    "print(df_put.columns)\n",
    "df_put.columns = [\"pdb_id\", \"chain\", \"start\", \"length\", \"pos\", \"aa\", \"x\", \"y\", \"z\", \"rmsd\"]\n",
    "print(df_put.isnull().values.any())\n",
    "df_put[\"chain\"] = df_put[\"chain\"] + \"_\" + df_put[\"start\"].astype('str')\n",
    "print(df_put.isnull().values.any())\n",
    "df_put.drop([\"start\"], inplace=True, axis=1)\n",
    "\n",
    "df_cdr.columns = [\"pdb_id\", \"chain\", \"length\", \"pos\", \"aa\", \"x\", \"y\", \"z\"]\n",
    "\n",
    "tmp1 = df_put.loc[(df_put[\"pos\"] == 0) & (df_put[\"aa\"] == \"C\"), [\"pdb_id\", \"chain\"]]\n",
    "tmp2 = df_put.loc[((df_put[\"pos\"] == MAX_POS) & (df_put[\"aa\"] == \"F\")) | \n",
    "                  (((df_put[\"pos\"] == MAX_POS) & (df_put[\"aa\"] == \"W\"))), \n",
    "                  [\"pdb_id\", \"chain\"]]\n",
    "tmp3 = set(tmp1[\"pdb_id\"] + \"_\" + tmp1[\"chain\"]).intersection(set(tmp2[\"pdb_id\"] + \"_\" + tmp2[\"chain\"]))\n",
    "tmp4 = list(df_put[\"pdb_id\"] + \"_\" + df_put[\"chain\"])\n",
    "\n",
    "df_can = df_put.copy()\n",
    "indices = []\n",
    "for key in sorted(tmp3):\n",
    "    indices.extend(range(tmp4.index(key), tmp4.index(key)+13))\n",
    "\n",
    "df_can = df_can.iloc[indices, :]"
   ]
  },
  {
   "cell_type": "code",
   "execution_count": 3,
   "metadata": {
    "collapsed": false,
    "deletable": true,
    "editable": true
   },
   "outputs": [
    {
     "name": "stdout",
     "output_type": "stream",
     "text": [
      "(74528, 15)\n",
      "(74528, 15)\n",
      "(74528, 15)\n",
      "(281, 15)\n",
      "(281, 15)\n",
      "(281, 15)\n",
      "(69, 15)\n",
      "(69, 15)\n",
      "(69, 15)\n"
     ]
    }
   ],
   "source": [
    "def save_df(df_inp, coord, filename):\n",
    "    df = df_inp.pivot_table(coord, [\"pdb_id\", \"chain\"], columns=\"pos\")\n",
    "    df = df.reset_index()\n",
    "\n",
    "    df2 = df_inp.pivot_table(\"aa\", [\"pdb_id\", \"chain\"], aggfunc=sum)\n",
    "    df2 = df2.reset_index()\n",
    "\n",
    "    df[\"sequence\"] = df2[\"aa\"]\n",
    "    df[\"key\"] = df[\"pdb_id\"] + \"_\" + df[\"chain\"]\n",
    "    df.drop([\"pdb_id\", \"chain\"], axis=1, inplace=True)\n",
    "    df = df[[\"key\", \"sequence\", 0, 1, 2, 3, 4, 5, 6, 7, 8, 9, 10, 11, 12]]\n",
    "#     df.to_csv(filename, compression=\"gzip\")\n",
    "    print(df.shape)\n",
    "    return df\n",
    "    \n",
    "\n",
    "df_put_coord_x = save_df(df_put, \"x\", \"data/put_coord_x.csv.gz\")\n",
    "df_put_coord_y = save_df(df_put, \"y\", \"data/put_coord_y.csv.gz\")\n",
    "df_put_coord_z = save_df(df_put, \"z\", \"data/put_coord_z.csv.gz\")\n",
    "\n",
    "arr_put_coord = np.hstack([np.array(df_put_coord_x[range(0,MAX_POS+1)]),\n",
    "                           np.array(df_put_coord_y[range(0,MAX_POS+1)]),\n",
    "                           np.array(df_put_coord_z[range(0,MAX_POS+1)])])\n",
    "\n",
    "del df_put_coord_x\n",
    "del df_put_coord_y\n",
    "del df_put_coord_z\n",
    "\n",
    "df_can_coord_x = save_df(df_can, \"x\", \"data/can_coord_x.csv.gz\")\n",
    "df_can_coord_y = save_df(df_can, \"y\", \"data/can_coord_y.csv.gz\")\n",
    "df_can_coord_z = save_df(df_can, \"z\", \"data/can_coord_z.csv.gz\")\n",
    "\n",
    "arr_can_coord = np.hstack([np.array(df_can_coord_x[range(0,MAX_POS+1)]),\n",
    "                           np.array(df_can_coord_y[range(0,MAX_POS+1)]),\n",
    "                           np.array(df_can_coord_z[range(0,MAX_POS+1)])])\n",
    "\n",
    "del df_can_coord_x\n",
    "del df_can_coord_y\n",
    "del df_can_coord_z\n",
    "\n",
    "df_cdr_coord_x = save_df(df_cdr, \"x\", \"data/cdr_coord_x.csv.gz\")\n",
    "df_cdr_coord_y = save_df(df_cdr, \"y\", \"data/cdr_coord_y.csv.gz\")\n",
    "df_cdr_coord_z = save_df(df_cdr, \"z\", \"data/cdr_coord_z.csv.gz\")\n",
    "\n",
    "arr_cdr_coord = np.hstack([np.array(df_cdr_coord_x[range(0,MAX_POS+1)]),\n",
    "                           np.array(df_cdr_coord_y[range(0,MAX_POS+1)]),\n",
    "                           np.array(df_cdr_coord_z[range(0,MAX_POS+1)])])\n",
    "\n",
    "del df_cdr_coord_x\n",
    "del df_cdr_coord_y\n",
    "del df_cdr_coord_z"
   ]
  },
  {
   "cell_type": "code",
   "execution_count": 5,
   "metadata": {
    "collapsed": false,
    "deletable": true,
    "editable": true
   },
   "outputs": [
    {
     "data": {
      "image/png": "[encoded data removed]",
      "text/plain": [
       "<matplotlib.figure.Figure at 0x7f596d0ebe10>"
      ]
     },
     "metadata": {},
     "output_type": "display_data"
    }
   ],
   "source": [
    "from collections import Counter\n",
    "\n",
    "colors = [\"red\", \"dodgerblue\", \"springgreen\", \"orange\", \"magenta\", \"black\", \"maroon\", \"aqua\", \"gold\"]\n",
    "\n",
    "def compute_sill(X, min_clusters, max_clusters, label):\n",
    "    arr = []\n",
    "    for n_clusters in range(min_clusters, max_clusters+1):\n",
    "        clust = MiniBatchKMeans(n_clusters=n_clusters, batch_size=1000, n_init=100)\n",
    "        clust.fit(X)\n",
    "        pred = clust.predict(X)\n",
    "        arr.append(silhouette_score(X, pred))\n",
    "    plt.plot(range(min_clusters, max_clusters+1), arr, label=label)\n",
    "    plt.legend()\n",
    "    \n",
    "def clust_and_plot(X, n_clusters, sill=True):\n",
    "    clust = MiniBatchKMeans(n_clusters=n_clusters, batch_size=1000, n_init=100)\n",
    "    clust.fit(X)\n",
    "    pred = clust.predict(X)\n",
    "    \n",
    "    print(Counter(pred))\n",
    "\n",
    "    fig, ax = plt.subplots(1,3,figsize=(16,5))\n",
    "    ax[0].set_title(\"X\")\n",
    "    ax[1].set_title(\"Y\")\n",
    "    ax[2].set_title(\"Z\")\n",
    "\n",
    "    permut = np.random.permutation(range(X.shape[0]))\n",
    "    pred = pred[permut]\n",
    "    \n",
    "    for i, row in enumerate(X[permut]):\n",
    "        ax[0].plot(range(MAX_POS+1), row[range(0, MAX_POS+1)], c=colors[pred[i]], alpha=.5)\n",
    "        ax[1].plot(range(MAX_POS+1), row[range(MAX_POS+1, 2*MAX_POS+2)], c=colors[pred[i]], alpha=.5)\n",
    "        ax[2].plot(range(MAX_POS+1), row[range(2*MAX_POS+2, 3*MAX_POS+3)], c=colors[pred[i]], alpha=.5)\n",
    "        if i > 1000:\n",
    "            break\n",
    "            \n",
    "    return clust.cluster_centers_,  \\\n",
    "           np.array([np.std(c - X, 0) for c in clust.cluster_centers_]), \\\n",
    "           pred\n",
    "\n",
    "\n",
    "compute_sill(arr_cdr_coord, 2, 10, \"cdr\")\n",
    "compute_sill(arr_can_coord, 2, 10, \"can\")\n",
    "# compute_sill(arr_put_coord, 2, 10, \"put\")"
   ]
  },
  {
   "cell_type": "code",
   "execution_count": null,
   "metadata": {
    "collapsed": true,
    "deletable": true,
    "editable": true
   },
   "outputs": [],
   "source": []
  },
  {
   "cell_type": "code",
   "execution_count": null,
   "metadata": {
    "collapsed": true,
    "deletable": true,
    "editable": true
   },
   "outputs": [],
   "source": []
  }
 ],
 "metadata": {
  "kernelspec": {
   "display_name": "Python [conda root]",
   "language": "python",
   "name": "conda-root-py"
  },
  "language_info": {
   "codemirror_mode": {
    "name": "ipython",
    "version": 2
   },
   "file_extension": ".py",
   "mimetype": "text/x-python",
   "name": "python",
   "nbconvert_exporter": "python",
   "pygments_lexer": "ipython2",
   "version": "2.7.13"
  }
 },
 "nbformat": 4,
 "nbformat_minor": 2
}
