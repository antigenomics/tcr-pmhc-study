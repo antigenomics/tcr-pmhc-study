{
 "cells": [
  {
   "cell_type": "code",
   "execution_count": 3,
   "metadata": {
    "collapsed": true
   },
   "outputs": [],
   "source": [
    "import pandas as pd\n",
    "import numpy as np\n",
    "%matplotlib inline\n",
    "import matplotlib.pyplot as plt\n",
    "import seaborn as sns\n"
   ]
  },
  {
   "cell_type": "markdown",
   "metadata": {},
   "source": [
    "### let us prepare data for weka"
   ]
  },
  {
   "cell_type": "code",
   "execution_count": 6,
   "metadata": {
    "collapsed": false,
    "scrolled": true
   },
   "outputs": [
    {
     "data": {
      "text/html": [
       "<div>\n",
       "<table border=\"1\" class=\"dataframe\">\n",
       "  <thead>\n",
       "    <tr style=\"text-align: right;\">\n",
       "      <th></th>\n",
       "      <th>mhc_type</th>\n",
       "      <th>tcr_v_allele</th>\n",
       "      <th>aa_tcr</th>\n",
       "      <th>aa_antigen</th>\n",
       "      <th>len_tcr</th>\n",
       "      <th>len_antigen</th>\n",
       "      <th>pos_tcr</th>\n",
       "      <th>pos_antigen</th>\n",
       "      <th>distance</th>\n",
       "    </tr>\n",
       "  </thead>\n",
       "  <tbody>\n",
       "    <tr>\n",
       "      <th>0</th>\n",
       "      <td>MHCI</td>\n",
       "      <td>alpha</td>\n",
       "      <td>C</td>\n",
       "      <td>L</td>\n",
       "      <td>13</td>\n",
       "      <td>9</td>\n",
       "      <td>-6</td>\n",
       "      <td>-4</td>\n",
       "      <td>False</td>\n",
       "    </tr>\n",
       "    <tr>\n",
       "      <th>1</th>\n",
       "      <td>MHCI</td>\n",
       "      <td>alpha</td>\n",
       "      <td>C</td>\n",
       "      <td>L</td>\n",
       "      <td>13</td>\n",
       "      <td>9</td>\n",
       "      <td>-6</td>\n",
       "      <td>-3</td>\n",
       "      <td>False</td>\n",
       "    </tr>\n",
       "    <tr>\n",
       "      <th>2</th>\n",
       "      <td>MHCI</td>\n",
       "      <td>alpha</td>\n",
       "      <td>C</td>\n",
       "      <td>F</td>\n",
       "      <td>13</td>\n",
       "      <td>9</td>\n",
       "      <td>-6</td>\n",
       "      <td>-2</td>\n",
       "      <td>False</td>\n",
       "    </tr>\n",
       "    <tr>\n",
       "      <th>3</th>\n",
       "      <td>MHCI</td>\n",
       "      <td>alpha</td>\n",
       "      <td>C</td>\n",
       "      <td>G</td>\n",
       "      <td>13</td>\n",
       "      <td>9</td>\n",
       "      <td>-6</td>\n",
       "      <td>-1</td>\n",
       "      <td>False</td>\n",
       "    </tr>\n",
       "    <tr>\n",
       "      <th>4</th>\n",
       "      <td>MHCI</td>\n",
       "      <td>alpha</td>\n",
       "      <td>C</td>\n",
       "      <td>Y</td>\n",
       "      <td>13</td>\n",
       "      <td>9</td>\n",
       "      <td>-6</td>\n",
       "      <td>0</td>\n",
       "      <td>False</td>\n",
       "    </tr>\n",
       "  </tbody>\n",
       "</table>\n",
       "</div>"
      ],
      "text/plain": [
       "  mhc_type tcr_v_allele aa_tcr aa_antigen  len_tcr  len_antigen  pos_tcr  \\\n",
       "0     MHCI        alpha      C          L       13            9       -6   \n",
       "1     MHCI        alpha      C          L       13            9       -6   \n",
       "2     MHCI        alpha      C          F       13            9       -6   \n",
       "3     MHCI        alpha      C          G       13            9       -6   \n",
       "4     MHCI        alpha      C          Y       13            9       -6   \n",
       "\n",
       "   pos_antigen distance  \n",
       "0           -4    False  \n",
       "1           -3    False  \n",
       "2           -2    False  \n",
       "3           -1    False  \n",
       "4            0    False  "
      ]
     },
     "execution_count": 6,
     "metadata": {},
     "output_type": "execute_result"
    }
   ],
   "source": [
    "df = pd.DataFrame(pd.read_table('structure.txt'))\n",
    "df = df[df['tcr_region'] == 'CDR3']\n",
    "\n",
    "columns = ['mhc_type', 'tcr_v_allele', 'aa_tcr', 'aa_antigen', 'len_tcr', 'len_antigen', 'pos_tcr', 'pos_antigen', 'distance']\n",
    "df = df[columns]\n",
    "df.loc[df.tcr_v_allele.str.startswith('TRA'), 'tcr_v_allele'] = 'alpha'\n",
    "df.loc[df.tcr_v_allele.str.startswith('TRB'), 'tcr_v_allele'] = 'beta'\n",
    "df['pos_tcr'] = df['pos_tcr'] - map(np.floor, (df['len_tcr'] / 2))\n",
    "df['pos_antigen'] = df['pos_antigen'] - map(np.floor, (df['len_antigen'] / 2))\n",
    "df.distance = df.distance < 6\n",
    "df.index = range(df.shape[0])\n",
    "#df = df[(df['pos_tcr'] <= 4) & (df['pos_tcr'] >= -5) & (df['pos_antigen'] <= 4) & (df['pos_antigen'] >= -4)]\n",
    "\n",
    "#df.to_csv('weka/class_via_distance/dist10/dist10.csv', index=False)\n",
    "\n",
    "df.head()"
   ]
  },
  {
   "cell_type": "markdown",
   "metadata": {},
   "source": [
    "### load miyazawa 1996 energy table"
   ]
  },
  {
   "cell_type": "code",
   "execution_count": 2,
   "metadata": {
    "collapsed": false
   },
   "outputs": [
    {
     "data": {
      "text/html": [
       "<div>\n",
       "<table border=\"1\" class=\"dataframe\">\n",
       "  <thead>\n",
       "    <tr style=\"text-align: right;\">\n",
       "      <th></th>\n",
       "      <th>A</th>\n",
       "      <th>C</th>\n",
       "      <th>D</th>\n",
       "      <th>E</th>\n",
       "      <th>F</th>\n",
       "      <th>G</th>\n",
       "      <th>H</th>\n",
       "      <th>I</th>\n",
       "      <th>K</th>\n",
       "      <th>L</th>\n",
       "      <th>M</th>\n",
       "      <th>N</th>\n",
       "      <th>P</th>\n",
       "      <th>Q</th>\n",
       "      <th>R</th>\n",
       "      <th>S</th>\n",
       "      <th>T</th>\n",
       "      <th>V</th>\n",
       "      <th>W</th>\n",
       "      <th>Y</th>\n",
       "    </tr>\n",
       "  </thead>\n",
       "  <tbody>\n",
       "    <tr>\n",
       "      <th>A</th>\n",
       "      <td>-2.72</td>\n",
       "      <td>-3.57</td>\n",
       "      <td>-1.70</td>\n",
       "      <td>-1.51</td>\n",
       "      <td>-4.81</td>\n",
       "      <td>-2.31</td>\n",
       "      <td>-2.41</td>\n",
       "      <td>-4.58</td>\n",
       "      <td>-1.31</td>\n",
       "      <td>-4.91</td>\n",
       "      <td>-3.94</td>\n",
       "      <td>-1.84</td>\n",
       "      <td>-2.03</td>\n",
       "      <td>-1.89</td>\n",
       "      <td>-1.83</td>\n",
       "      <td>-2.01</td>\n",
       "      <td>-2.32</td>\n",
       "      <td>-4.04</td>\n",
       "      <td>-3.82</td>\n",
       "      <td>-3.36</td>\n",
       "    </tr>\n",
       "    <tr>\n",
       "      <th>C</th>\n",
       "      <td>-3.57</td>\n",
       "      <td>-5.44</td>\n",
       "      <td>-2.41</td>\n",
       "      <td>-2.27</td>\n",
       "      <td>-5.80</td>\n",
       "      <td>-3.16</td>\n",
       "      <td>-3.60</td>\n",
       "      <td>-5.50</td>\n",
       "      <td>-1.95</td>\n",
       "      <td>-5.83</td>\n",
       "      <td>-4.99</td>\n",
       "      <td>-2.59</td>\n",
       "      <td>-3.07</td>\n",
       "      <td>-2.85</td>\n",
       "      <td>-2.57</td>\n",
       "      <td>-2.86</td>\n",
       "      <td>-3.11</td>\n",
       "      <td>-4.96</td>\n",
       "      <td>-4.95</td>\n",
       "      <td>-4.16</td>\n",
       "    </tr>\n",
       "    <tr>\n",
       "      <th>D</th>\n",
       "      <td>-1.70</td>\n",
       "      <td>-2.41</td>\n",
       "      <td>-1.21</td>\n",
       "      <td>-1.02</td>\n",
       "      <td>-3.48</td>\n",
       "      <td>-1.59</td>\n",
       "      <td>-2.32</td>\n",
       "      <td>-3.17</td>\n",
       "      <td>-1.68</td>\n",
       "      <td>-3.40</td>\n",
       "      <td>-2.57</td>\n",
       "      <td>-1.68</td>\n",
       "      <td>-1.33</td>\n",
       "      <td>-1.46</td>\n",
       "      <td>-2.29</td>\n",
       "      <td>-1.63</td>\n",
       "      <td>-1.80</td>\n",
       "      <td>-2.48</td>\n",
       "      <td>-2.84</td>\n",
       "      <td>-2.76</td>\n",
       "    </tr>\n",
       "    <tr>\n",
       "      <th>E</th>\n",
       "      <td>-1.51</td>\n",
       "      <td>-2.27</td>\n",
       "      <td>-1.02</td>\n",
       "      <td>-0.91</td>\n",
       "      <td>-3.56</td>\n",
       "      <td>-1.22</td>\n",
       "      <td>-2.15</td>\n",
       "      <td>-3.27</td>\n",
       "      <td>-1.80</td>\n",
       "      <td>-3.59</td>\n",
       "      <td>-2.89</td>\n",
       "      <td>-1.51</td>\n",
       "      <td>-1.26</td>\n",
       "      <td>-1.42</td>\n",
       "      <td>-2.27</td>\n",
       "      <td>-1.48</td>\n",
       "      <td>-1.74</td>\n",
       "      <td>-2.67</td>\n",
       "      <td>-2.99</td>\n",
       "      <td>-2.79</td>\n",
       "    </tr>\n",
       "    <tr>\n",
       "      <th>F</th>\n",
       "      <td>-4.81</td>\n",
       "      <td>-5.80</td>\n",
       "      <td>-3.48</td>\n",
       "      <td>-3.56</td>\n",
       "      <td>-7.26</td>\n",
       "      <td>-4.13</td>\n",
       "      <td>-4.77</td>\n",
       "      <td>-6.84</td>\n",
       "      <td>-3.36</td>\n",
       "      <td>-7.28</td>\n",
       "      <td>-6.56</td>\n",
       "      <td>-3.75</td>\n",
       "      <td>-4.25</td>\n",
       "      <td>-4.10</td>\n",
       "      <td>-3.98</td>\n",
       "      <td>-4.02</td>\n",
       "      <td>-4.28</td>\n",
       "      <td>-6.29</td>\n",
       "      <td>-6.16</td>\n",
       "      <td>-5.66</td>\n",
       "    </tr>\n",
       "  </tbody>\n",
       "</table>\n",
       "</div>"
      ],
      "text/plain": [
       "      A     C     D     E     F     G     H     I     K     L     M     N  \\\n",
       "A -2.72 -3.57 -1.70 -1.51 -4.81 -2.31 -2.41 -4.58 -1.31 -4.91 -3.94 -1.84   \n",
       "C -3.57 -5.44 -2.41 -2.27 -5.80 -3.16 -3.60 -5.50 -1.95 -5.83 -4.99 -2.59   \n",
       "D -1.70 -2.41 -1.21 -1.02 -3.48 -1.59 -2.32 -3.17 -1.68 -3.40 -2.57 -1.68   \n",
       "E -1.51 -2.27 -1.02 -0.91 -3.56 -1.22 -2.15 -3.27 -1.80 -3.59 -2.89 -1.51   \n",
       "F -4.81 -5.80 -3.48 -3.56 -7.26 -4.13 -4.77 -6.84 -3.36 -7.28 -6.56 -3.75   \n",
       "\n",
       "      P     Q     R     S     T     V     W     Y  \n",
       "A -2.03 -1.89 -1.83 -2.01 -2.32 -4.04 -3.82 -3.36  \n",
       "C -3.07 -2.85 -2.57 -2.86 -3.11 -4.96 -4.95 -4.16  \n",
       "D -1.33 -1.46 -2.29 -1.63 -1.80 -2.48 -2.84 -2.76  \n",
       "E -1.26 -1.42 -2.27 -1.48 -1.74 -2.67 -2.99 -2.79  \n",
       "F -4.25 -4.10 -3.98 -4.02 -4.28 -6.29 -6.16 -5.66  "
      ]
     },
     "execution_count": 2,
     "metadata": {},
     "output_type": "execute_result"
    }
   ],
   "source": [
    "nrg_mat = pd.DataFrame(pd.read_table('miyazava_table.txt'))\n",
    "nrg_mat.index = nrg_mat.columns\n",
    "for i in range(nrg_mat.shape[0]):\n",
    "    for j in range(i):\n",
    "        nrg_mat.iloc[i, j] = nrg_mat.iloc[j, i]\n",
    "nrg_mat.sort_index(0, inplace=True)\n",
    "nrg_mat.sort_index(1, inplace=True)\n",
    "nrg_mat.head()"
   ]
  },
  {
   "cell_type": "markdown",
   "metadata": {},
   "source": [
    "### here we calculate interaction energy of CDR3 with antigen using miyazava energy table"
   ]
  },
  {
   "cell_type": "code",
   "execution_count": 15,
   "metadata": {
    "collapsed": false
   },
   "outputs": [],
   "source": [
    "df1 = pd.DataFrame(pd.read_table('structure.txt'))\n",
    "df1 = df1[df1['tcr_region'] == 'CDR3']\n",
    "\n",
    "df1.loc[df1.tcr_v_allele.str.startswith('TRA'), 'tcr_v_allele'] = 'alpha'\n",
    "df1.loc[df1.tcr_v_allele.str.startswith('TRB'), 'tcr_v_allele'] = 'beta'\n",
    "df1['pos_tcr'] = df1['pos_tcr'] - map(np.floor, (df1['len_tcr'] / 2))\n",
    "df1['pos_antigen'] = df1['pos_antigen'] - map(np.floor, (df1['len_antigen'] / 2))\n",
    "df1.dropna(inplace=True)\n",
    "df1.index = range(df1.shape[0])\n",
    "\n",
    "df1.loc[:, 'recalc_energy'] = 0\n",
    "for x in range(df1.shape[0]):\n",
    "    df1.iloc[x, -1] = nrg_mat.loc[df1.iloc[x, -9], df1.iloc[x, -8]]"
   ]
  },
  {
   "cell_type": "code",
   "execution_count": 16,
   "metadata": {
    "collapsed": false,
    "scrolled": true
   },
   "outputs": [
    {
     "data": {
      "text/html": [
       "<div>\n",
       "<table border=\"1\" class=\"dataframe\">\n",
       "  <thead>\n",
       "    <tr style=\"text-align: right;\">\n",
       "      <th></th>\n",
       "      <th>pdb_id</th>\n",
       "      <th>species</th>\n",
       "      <th>mhc_type</th>\n",
       "      <th>chain_mhc_a</th>\n",
       "      <th>chain_mhc_b</th>\n",
       "      <th>antigen_seq</th>\n",
       "      <th>tcr_v_allele</th>\n",
       "      <th>tcr_region</th>\n",
       "      <th>aa_tcr</th>\n",
       "      <th>aa_antigen</th>\n",
       "      <th>len_tcr</th>\n",
       "      <th>len_antigen</th>\n",
       "      <th>pos_tcr</th>\n",
       "      <th>pos_antigen</th>\n",
       "      <th>distance</th>\n",
       "      <th>energy</th>\n",
       "      <th>recalc_energy</th>\n",
       "    </tr>\n",
       "  </thead>\n",
       "  <tbody>\n",
       "    <tr>\n",
       "      <th>0</th>\n",
       "      <td>1ao7</td>\n",
       "      <td>HomoSapiens</td>\n",
       "      <td>MHCI</td>\n",
       "      <td>A</td>\n",
       "      <td>B</td>\n",
       "      <td>LLFGYPVYV</td>\n",
       "      <td>alpha</td>\n",
       "      <td>CDR3</td>\n",
       "      <td>C</td>\n",
       "      <td>L</td>\n",
       "      <td>13</td>\n",
       "      <td>9</td>\n",
       "      <td>-6</td>\n",
       "      <td>-4</td>\n",
       "      <td>17.826448</td>\n",
       "      <td>0</td>\n",
       "      <td>-5.83</td>\n",
       "    </tr>\n",
       "    <tr>\n",
       "      <th>1</th>\n",
       "      <td>1ao7</td>\n",
       "      <td>HomoSapiens</td>\n",
       "      <td>MHCI</td>\n",
       "      <td>A</td>\n",
       "      <td>B</td>\n",
       "      <td>LLFGYPVYV</td>\n",
       "      <td>alpha</td>\n",
       "      <td>CDR3</td>\n",
       "      <td>C</td>\n",
       "      <td>L</td>\n",
       "      <td>13</td>\n",
       "      <td>9</td>\n",
       "      <td>-6</td>\n",
       "      <td>-3</td>\n",
       "      <td>19.934641</td>\n",
       "      <td>0</td>\n",
       "      <td>-5.83</td>\n",
       "    </tr>\n",
       "    <tr>\n",
       "      <th>2</th>\n",
       "      <td>1ao7</td>\n",
       "      <td>HomoSapiens</td>\n",
       "      <td>MHCI</td>\n",
       "      <td>A</td>\n",
       "      <td>B</td>\n",
       "      <td>LLFGYPVYV</td>\n",
       "      <td>alpha</td>\n",
       "      <td>CDR3</td>\n",
       "      <td>C</td>\n",
       "      <td>F</td>\n",
       "      <td>13</td>\n",
       "      <td>9</td>\n",
       "      <td>-6</td>\n",
       "      <td>-2</td>\n",
       "      <td>20.313959</td>\n",
       "      <td>0</td>\n",
       "      <td>-5.80</td>\n",
       "    </tr>\n",
       "    <tr>\n",
       "      <th>3</th>\n",
       "      <td>1ao7</td>\n",
       "      <td>HomoSapiens</td>\n",
       "      <td>MHCI</td>\n",
       "      <td>A</td>\n",
       "      <td>B</td>\n",
       "      <td>LLFGYPVYV</td>\n",
       "      <td>alpha</td>\n",
       "      <td>CDR3</td>\n",
       "      <td>C</td>\n",
       "      <td>G</td>\n",
       "      <td>13</td>\n",
       "      <td>9</td>\n",
       "      <td>-6</td>\n",
       "      <td>-1</td>\n",
       "      <td>17.734846</td>\n",
       "      <td>0</td>\n",
       "      <td>-3.16</td>\n",
       "    </tr>\n",
       "    <tr>\n",
       "      <th>4</th>\n",
       "      <td>1ao7</td>\n",
       "      <td>HomoSapiens</td>\n",
       "      <td>MHCI</td>\n",
       "      <td>A</td>\n",
       "      <td>B</td>\n",
       "      <td>LLFGYPVYV</td>\n",
       "      <td>alpha</td>\n",
       "      <td>CDR3</td>\n",
       "      <td>C</td>\n",
       "      <td>Y</td>\n",
       "      <td>13</td>\n",
       "      <td>9</td>\n",
       "      <td>-6</td>\n",
       "      <td>0</td>\n",
       "      <td>13.125239</td>\n",
       "      <td>0</td>\n",
       "      <td>-4.16</td>\n",
       "    </tr>\n",
       "  </tbody>\n",
       "</table>\n",
       "</div>"
      ],
      "text/plain": [
       "  pdb_id      species mhc_type chain_mhc_a chain_mhc_b antigen_seq  \\\n",
       "0   1ao7  HomoSapiens     MHCI           A           B   LLFGYPVYV   \n",
       "1   1ao7  HomoSapiens     MHCI           A           B   LLFGYPVYV   \n",
       "2   1ao7  HomoSapiens     MHCI           A           B   LLFGYPVYV   \n",
       "3   1ao7  HomoSapiens     MHCI           A           B   LLFGYPVYV   \n",
       "4   1ao7  HomoSapiens     MHCI           A           B   LLFGYPVYV   \n",
       "\n",
       "  tcr_v_allele tcr_region aa_tcr aa_antigen  len_tcr  len_antigen  pos_tcr  \\\n",
       "0        alpha       CDR3      C          L       13            9       -6   \n",
       "1        alpha       CDR3      C          L       13            9       -6   \n",
       "2        alpha       CDR3      C          F       13            9       -6   \n",
       "3        alpha       CDR3      C          G       13            9       -6   \n",
       "4        alpha       CDR3      C          Y       13            9       -6   \n",
       "\n",
       "   pos_antigen   distance  energy  recalc_energy  \n",
       "0           -4  17.826448       0          -5.83  \n",
       "1           -3  19.934641       0          -5.83  \n",
       "2           -2  20.313959       0          -5.80  \n",
       "3           -1  17.734846       0          -3.16  \n",
       "4            0  13.125239       0          -4.16  "
      ]
     },
     "execution_count": 16,
     "metadata": {},
     "output_type": "execute_result"
    }
   ],
   "source": [
    "df1.head()"
   ]
  },
  {
   "cell_type": "code",
   "execution_count": 65,
   "metadata": {
    "collapsed": false
   },
   "outputs": [
    {
     "data": {
      "text/plain": [
       "0    1\n",
       "1    1\n",
       "2    1\n",
       "3    1\n",
       "dtype: float64"
      ]
     },
     "execution_count": 65,
     "metadata": {},
     "output_type": "execute_result"
    }
   ],
   "source": [
    "a = pd.Series([1,2,3,4])\n",
    "b = pd.Series([1,2,3,4])\n",
    "a / b"
   ]
  },
  {
   "cell_type": "code",
   "execution_count": 319,
   "metadata": {
    "collapsed": false
   },
   "outputs": [
    {
     "data": {
      "text/plain": [
       "1"
      ]
     },
     "execution_count": 319,
     "metadata": {},
     "output_type": "execute_result"
    }
   ],
   "source": []
  },
  {
   "cell_type": "markdown",
   "metadata": {},
   "source": [
    "### now we plot energy distribution of our structures"
   ]
  },
  {
   "cell_type": "code",
   "execution_count": 211,
   "metadata": {
    "collapsed": false
   },
   "outputs": [
    {
     "data": {
      "text/plain": [
       "<matplotlib.axes._subplots.AxesSubplot at 0x7f7b4042a6d0>"
      ]
     },
     "execution_count": 211,
     "metadata": {},
     "output_type": "execute_result"
    },
    {
     "data": {
      "image/png": "[encoded data removed]",
      "text/plain": [
       "<matplotlib.figure.Figure at 0x7f7b403b9210>"
      ]
     },
     "metadata": {},
     "output_type": "display_data"
    }
   ],
   "source": [
    "#sns.regplot(np.array(df1[df1['distance'] < 5]['pos_tcr']), -np.array(df1[df1['distance'] < 5]['pos_antigen']))"
   ]
  },
  {
   "cell_type": "code",
   "execution_count": null,
   "metadata": {
    "collapsed": true
   },
   "outputs": [],
   "source": []
  },
  {
   "cell_type": "code",
   "execution_count": 29,
   "metadata": {
    "collapsed": false
   },
   "outputs": [
    {
     "ename": "IndexingError",
     "evalue": "Unalignable boolean Series key provided",
     "output_type": "error",
     "traceback": [
      "\u001b[1;31m---------------------------------------------------------------------------\u001b[0m",
      "\u001b[1;31mIndexingError\u001b[0m                             Traceback (most recent call last)",
      "\u001b[1;32m<ipython-input-29-e0d61fcbb7fc>\u001b[0m in \u001b[0;36m<module>\u001b[1;34m()\u001b[0m\n\u001b[0;32m     27\u001b[0m \u001b[0mrea_energy\u001b[0m \u001b[1;33m=\u001b[0m \u001b[0mpd\u001b[0m\u001b[1;33m.\u001b[0m\u001b[0mSeries\u001b[0m\u001b[1;33m(\u001b[0m\u001b[0mrea_energy\u001b[0m\u001b[1;33m,\u001b[0m \u001b[0mindex\u001b[0m \u001b[1;33m=\u001b[0m \u001b[0mgrouped\u001b[0m\u001b[1;33m.\u001b[0m\u001b[0mgroups\u001b[0m\u001b[1;33m.\u001b[0m\u001b[0mkeys\u001b[0m\u001b[1;33m(\u001b[0m\u001b[1;33m)\u001b[0m\u001b[1;33m)\u001b[0m\u001b[1;33m\u001b[0m\u001b[0m\n\u001b[0;32m     28\u001b[0m \u001b[1;33m\u001b[0m\u001b[0m\n\u001b[1;32m---> 29\u001b[1;33m \u001b[0msns\u001b[0m\u001b[1;33m.\u001b[0m\u001b[0mregplot\u001b[0m\u001b[1;33m(\u001b[0m\u001b[0mrea_energy\u001b[0m\u001b[1;33m[\u001b[0m\u001b[0mrea_energy\u001b[0m \u001b[1;33m<\u001b[0m \u001b[1;36m0\u001b[0m\u001b[1;33m]\u001b[0m\u001b[1;33m,\u001b[0m \u001b[0mrec_energy\u001b[0m\u001b[1;33m[\u001b[0m\u001b[0mrea_energy\u001b[0m \u001b[1;33m<\u001b[0m \u001b[1;36m0\u001b[0m\u001b[1;33m]\u001b[0m\u001b[1;33m)\u001b[0m\u001b[1;33m\u001b[0m\u001b[0m\n\u001b[0m\u001b[0;32m     30\u001b[0m \u001b[1;31m#sns.distplot(rea_energy - rec_energy, bins=50, kde=None)\u001b[0m\u001b[1;33m\u001b[0m\u001b[1;33m\u001b[0m\u001b[0m\n\u001b[0;32m     31\u001b[0m \u001b[0mnp\u001b[0m\u001b[1;33m.\u001b[0m\u001b[0mcorrcoef\u001b[0m\u001b[1;33m(\u001b[0m\u001b[0mrea_energy\u001b[0m\u001b[1;33m[\u001b[0m\u001b[0mrea_energy\u001b[0m \u001b[1;33m<\u001b[0m \u001b[1;36m0\u001b[0m\u001b[1;33m]\u001b[0m\u001b[1;33m,\u001b[0m \u001b[0mrec_energy\u001b[0m\u001b[1;33m[\u001b[0m\u001b[0mrea_energy\u001b[0m \u001b[1;33m<\u001b[0m \u001b[1;36m0\u001b[0m\u001b[1;33m]\u001b[0m\u001b[1;33m)\u001b[0m\u001b[1;33m\u001b[0m\u001b[0m\n",
      "\u001b[1;32m/home/mikhail/Development/Libs/anaconda2/lib/python2.7/site-packages/pandas/core/series.pyc\u001b[0m in \u001b[0;36m__getitem__\u001b[1;34m(self, key)\u001b[0m\n\u001b[0;32m    587\u001b[0m \u001b[1;33m\u001b[0m\u001b[0m\n\u001b[0;32m    588\u001b[0m         \u001b[1;32mif\u001b[0m \u001b[0mis_bool_indexer\u001b[0m\u001b[1;33m(\u001b[0m\u001b[0mkey\u001b[0m\u001b[1;33m)\u001b[0m\u001b[1;33m:\u001b[0m\u001b[1;33m\u001b[0m\u001b[0m\n\u001b[1;32m--> 589\u001b[1;33m             \u001b[0mkey\u001b[0m \u001b[1;33m=\u001b[0m \u001b[0mcheck_bool_indexer\u001b[0m\u001b[1;33m(\u001b[0m\u001b[0mself\u001b[0m\u001b[1;33m.\u001b[0m\u001b[0mindex\u001b[0m\u001b[1;33m,\u001b[0m \u001b[0mkey\u001b[0m\u001b[1;33m)\u001b[0m\u001b[1;33m\u001b[0m\u001b[0m\n\u001b[0m\u001b[0;32m    590\u001b[0m \u001b[1;33m\u001b[0m\u001b[0m\n\u001b[0;32m    591\u001b[0m         \u001b[1;32mreturn\u001b[0m \u001b[0mself\u001b[0m\u001b[1;33m.\u001b[0m\u001b[0m_get_with\u001b[0m\u001b[1;33m(\u001b[0m\u001b[0mkey\u001b[0m\u001b[1;33m)\u001b[0m\u001b[1;33m\u001b[0m\u001b[0m\n",
      "\u001b[1;32m/home/mikhail/Development/Libs/anaconda2/lib/python2.7/site-packages/pandas/core/indexing.pyc\u001b[0m in \u001b[0;36mcheck_bool_indexer\u001b[1;34m(ax, key)\u001b[0m\n\u001b[0;32m   1667\u001b[0m         \u001b[0mmask\u001b[0m \u001b[1;33m=\u001b[0m \u001b[0mcom\u001b[0m\u001b[1;33m.\u001b[0m\u001b[0misnull\u001b[0m\u001b[1;33m(\u001b[0m\u001b[0mresult\u001b[0m\u001b[1;33m.\u001b[0m\u001b[0m_values\u001b[0m\u001b[1;33m)\u001b[0m\u001b[1;33m\u001b[0m\u001b[0m\n\u001b[0;32m   1668\u001b[0m         \u001b[1;32mif\u001b[0m \u001b[0mmask\u001b[0m\u001b[1;33m.\u001b[0m\u001b[0many\u001b[0m\u001b[1;33m(\u001b[0m\u001b[1;33m)\u001b[0m\u001b[1;33m:\u001b[0m\u001b[1;33m\u001b[0m\u001b[0m\n\u001b[1;32m-> 1669\u001b[1;33m             \u001b[1;32mraise\u001b[0m \u001b[0mIndexingError\u001b[0m\u001b[1;33m(\u001b[0m\u001b[1;34m'Unalignable boolean Series key provided'\u001b[0m\u001b[1;33m)\u001b[0m\u001b[1;33m\u001b[0m\u001b[0m\n\u001b[0m\u001b[0;32m   1670\u001b[0m \u001b[1;33m\u001b[0m\u001b[0m\n\u001b[0;32m   1671\u001b[0m         \u001b[0mresult\u001b[0m \u001b[1;33m=\u001b[0m \u001b[0mresult\u001b[0m\u001b[1;33m.\u001b[0m\u001b[0mastype\u001b[0m\u001b[1;33m(\u001b[0m\u001b[0mbool\u001b[0m\u001b[1;33m)\u001b[0m\u001b[1;33m.\u001b[0m\u001b[0m_values\u001b[0m\u001b[1;33m\u001b[0m\u001b[0m\n",
      "\u001b[1;31mIndexingError\u001b[0m: Unalignable boolean Series key provided"
     ]
    }
   ],
   "source": [
    "grouped = df1.groupby('pdb_id')\n",
    "\n",
    "rec_energy_beta = []\n",
    "for name, group in grouped:\n",
    "    group = group[group['tcr_v_allele'] == 'beta']\n",
    "    energy = []\n",
    "    for tcr_center in range(-3, 4):    \n",
    "        energy.append(sum(group.loc[(group['pos_tcr'] > tcr_center - 3) & \\\n",
    "                       (group['pos_tcr'] < tcr_center + 2) & \\\n",
    "                       ( (group['pos_tcr'] - tcr_center == (group['pos_antigen'] + np.sign(group['pos_antigen']))) | \\\n",
    "                         (group['pos_tcr'] - tcr_center == (group['pos_antigen'] - 0)) | \\\n",
    "                         (group['pos_tcr'] - tcr_center == (group['pos_antigen'] - 0)) ), 'recalc_energy']))\n",
    "    rec_energy_beta.append(min(energy))\n",
    "        \n",
    "rec_energy_alpha = []\n",
    "for name, group in grouped:\n",
    "    group = group[group['tcr_v_allele'] == 'alpha']\n",
    "    energy = []\n",
    "    for ag_center in range(-2, 5):    \n",
    "        energy.append(sum(group.loc[(group['pos_tcr'] > -3) & \\\n",
    "                       (group['pos_tcr'] < 3) & \\\n",
    "                       ( (group['pos_tcr'] == (group['pos_antigen'] - ag_center + np.sign(group['pos_antigen']))) | \\\n",
    "                         (group['pos_tcr'] == (group['pos_antigen'] - ag_center  - 0)) | \\\n",
    "                         (group['pos_tcr'] == (group['pos_antigen'] - ag_center  - 0)) ), 'recalc_energy']))\n",
    "    rec_energy_alpha.append(min(energy))\n",
    "\n",
    "\n",
    "#print len(rec_energy_alpha)  , len(rec_energy_beta)\n",
    "\n",
    "\n",
    "rec_energy = pd.Series(rec_energy_alpha) + pd.Series(rec_energy_beta)\n",
    "rec_energy.index = rec_energy;\n",
    "\n",
    "rea_energy = [sum(group.loc[(group['distance'] < 100) & (group['tcr_v_allele'] == 'alpha') \\\n",
    "                            , 'energy']) for name, group in grouped]\n",
    "rea_energy = pd.Series(rea_energy, index = grouped.groups.keys())\n",
    "\n",
    "sns.regplot(rea_energy[rea_energy < 0], rec_energy[rea_energy < 0])\n",
    "#sns.distplot(rea_energy - rec_energy, bins=50, kde=None)\n",
    "np.corrcoef(rea_energy[rea_energy < 0], rec_energy[rea_energy < 0])"
   ]
  },
  {
   "cell_type": "markdown",
   "metadata": {},
   "source": []
  },
  {
   "cell_type": "code",
   "execution_count": 4,
   "metadata": {
    "collapsed": false,
    "scrolled": true
   },
   "outputs": [],
   "source": [
    "def process_single_line(line):\n",
    "    id = line[-1]\n",
    "    mhc_type = 'MHCI'\n",
    "    tcr_v_allele = 'beta'\n",
    "    cdr3 = line['#cdr3aa']\n",
    "    antigen = line['antigen_seq']\n",
    "    len_tcr = len(cdr3)\n",
    "    len_antigen = len(antigen)\n",
    "    empty = pd.DataFrame(columns=['tcr_id'] + list(df.columns), index=range(len_tcr*len_antigen))\n",
    "    \n",
    "    for i in range(len_tcr):\n",
    "        for j in range(len_antigen):\n",
    "            cur_id = i*len_antigen + j\n",
    "            empty.ix[cur_id, 'aa_tcr'] = cdr3[i]\n",
    "            empty.ix[cur_id, 'aa_antigen'] = antigen[j]\n",
    "            empty.ix[cur_id, 'pos_tcr'] = i\n",
    "            empty.ix[cur_id, 'pos_antigen'] = j\n",
    "    empty['tcr_id'] = id\n",
    "    empty['mhc_type'] = mhc_type\n",
    "    empty['tcr_v_allele'] = tcr_v_allele\n",
    "    empty['len_tcr'] = len_tcr\n",
    "    empty['len_antigen'] = len_antigen\n",
    "    empty['distance'] = np.nan\n",
    "    empty['pos_tcr'] = empty['pos_tcr'] - map(np.floor, (empty['len_tcr'] / 2))\n",
    "    empty['pos_antigen'] = empty['pos_antigen'] - map(np.floor, (empty['len_antigen'] / 2))\n",
    "    return empty"
   ]
  },
  {
   "cell_type": "code",
   "execution_count": 5,
   "metadata": {
    "collapsed": false
   },
   "outputs": [
    {
     "ename": "NameError",
     "evalue": "global name 'df' is not defined",
     "output_type": "error",
     "traceback": [
      "\u001b[1;31m---------------------------------------------------------------------------\u001b[0m",
      "\u001b[1;31mNameError\u001b[0m                                 Traceback (most recent call last)",
      "\u001b[1;32m<ipython-input-5-4f2bbc388917>\u001b[0m in \u001b[0;36m<module>\u001b[1;34m()\u001b[0m\n\u001b[0;32m      3\u001b[0m \u001b[0mvdjdb\u001b[0m\u001b[1;33m[\u001b[0m\u001b[1;34m'id'\u001b[0m\u001b[1;33m]\u001b[0m \u001b[1;33m=\u001b[0m \u001b[0mvdjdb\u001b[0m\u001b[1;33m.\u001b[0m\u001b[0mindex\u001b[0m\u001b[1;33m\u001b[0m\u001b[0m\n\u001b[0;32m      4\u001b[0m \u001b[0mvdjdb\u001b[0m\u001b[1;33m.\u001b[0m\u001b[0mdropna\u001b[0m\u001b[1;33m(\u001b[0m\u001b[0minplace\u001b[0m\u001b[1;33m=\u001b[0m\u001b[0mTrue\u001b[0m\u001b[1;33m)\u001b[0m\u001b[1;33m\u001b[0m\u001b[0m\n\u001b[1;32m----> 5\u001b[1;33m \u001b[0mvdjdb\u001b[0m \u001b[1;33m=\u001b[0m \u001b[0mpd\u001b[0m\u001b[1;33m.\u001b[0m\u001b[0mconcat\u001b[0m\u001b[1;33m(\u001b[0m\u001b[1;33m[\u001b[0m\u001b[0mprocess_single_line\u001b[0m\u001b[1;33m(\u001b[0m\u001b[0mvdjdb\u001b[0m\u001b[1;33m.\u001b[0m\u001b[0miloc\u001b[0m\u001b[1;33m[\u001b[0m\u001b[0mx\u001b[0m\u001b[1;33m,\u001b[0m \u001b[1;33m:\u001b[0m\u001b[1;33m]\u001b[0m\u001b[1;33m)\u001b[0m \u001b[1;32mfor\u001b[0m \u001b[0mx\u001b[0m \u001b[1;32min\u001b[0m \u001b[0mrange\u001b[0m\u001b[1;33m(\u001b[0m\u001b[0mvdjdb\u001b[0m\u001b[1;33m.\u001b[0m\u001b[0mshape\u001b[0m\u001b[1;33m[\u001b[0m\u001b[1;36m0\u001b[0m\u001b[1;33m]\u001b[0m\u001b[1;33m)\u001b[0m\u001b[1;33m]\u001b[0m\u001b[1;33m)\u001b[0m\u001b[1;33m\u001b[0m\u001b[0m\n\u001b[0m",
      "\u001b[1;32m<ipython-input-4-550592f95ae3>\u001b[0m in \u001b[0;36mprocess_single_line\u001b[1;34m(line)\u001b[0m\n\u001b[0;32m      7\u001b[0m     \u001b[0mlen_tcr\u001b[0m \u001b[1;33m=\u001b[0m \u001b[0mlen\u001b[0m\u001b[1;33m(\u001b[0m\u001b[0mcdr3\u001b[0m\u001b[1;33m)\u001b[0m\u001b[1;33m\u001b[0m\u001b[0m\n\u001b[0;32m      8\u001b[0m     \u001b[0mlen_antigen\u001b[0m \u001b[1;33m=\u001b[0m \u001b[0mlen\u001b[0m\u001b[1;33m(\u001b[0m\u001b[0mantigen\u001b[0m\u001b[1;33m)\u001b[0m\u001b[1;33m\u001b[0m\u001b[0m\n\u001b[1;32m----> 9\u001b[1;33m     \u001b[0mempty\u001b[0m \u001b[1;33m=\u001b[0m \u001b[0mpd\u001b[0m\u001b[1;33m.\u001b[0m\u001b[0mDataFrame\u001b[0m\u001b[1;33m(\u001b[0m\u001b[0mcolumns\u001b[0m\u001b[1;33m=\u001b[0m\u001b[1;33m[\u001b[0m\u001b[1;34m'tcr_id'\u001b[0m\u001b[1;33m]\u001b[0m \u001b[1;33m+\u001b[0m \u001b[0mlist\u001b[0m\u001b[1;33m(\u001b[0m\u001b[0mdf\u001b[0m\u001b[1;33m.\u001b[0m\u001b[0mcolumns\u001b[0m\u001b[1;33m)\u001b[0m\u001b[1;33m,\u001b[0m \u001b[0mindex\u001b[0m\u001b[1;33m=\u001b[0m\u001b[0mrange\u001b[0m\u001b[1;33m(\u001b[0m\u001b[0mlen_tcr\u001b[0m\u001b[1;33m*\u001b[0m\u001b[0mlen_antigen\u001b[0m\u001b[1;33m)\u001b[0m\u001b[1;33m)\u001b[0m\u001b[1;33m\u001b[0m\u001b[0m\n\u001b[0m\u001b[0;32m     10\u001b[0m \u001b[1;33m\u001b[0m\u001b[0m\n\u001b[0;32m     11\u001b[0m     \u001b[1;32mfor\u001b[0m \u001b[0mi\u001b[0m \u001b[1;32min\u001b[0m \u001b[0mrange\u001b[0m\u001b[1;33m(\u001b[0m\u001b[0mlen_tcr\u001b[0m\u001b[1;33m)\u001b[0m\u001b[1;33m:\u001b[0m\u001b[1;33m\u001b[0m\u001b[0m\n",
      "\u001b[1;31mNameError\u001b[0m: global name 'df' is not defined"
     ]
    }
   ],
   "source": [
    "vdjdb = pd.DataFrame(pd.read_table('vdjdb.txt'))\n",
    "vdjdb = vdjdb[['#cdr3aa', 'chain', 'mhc', 'antigen_seq']]\n",
    "vdjdb['id'] = vdjdb.index\n",
    "vdjdb.dropna(inplace=True)\n",
    "vdjdb = pd.concat([process_single_line(vdjdb.iloc[x, :]) for x in range(vdjdb.shape[0])])"
   ]
  },
  {
   "cell_type": "code",
   "execution_count": 9,
   "metadata": {
    "collapsed": false
   },
   "outputs": [],
   "source": [
    "vdjdb['distance'] = True\n",
    "vdjdb = vdjdb[vdjdb['aa_tcr'].str.isalpha() & vdjdb['aa_antigen'].str.isalpha()]\n",
    "vdjdb.iloc[:, 0:].to_csv('vdjdb.csv', index=None)"
   ]
  },
  {
   "cell_type": "code",
   "execution_count": 14,
   "metadata": {
    "collapsed": false
   },
   "outputs": [
    {
     "data": {
      "text/html": [
       "<div>\n",
       "<table border=\"1\" class=\"dataframe\">\n",
       "  <thead>\n",
       "    <tr style=\"text-align: right;\">\n",
       "      <th></th>\n",
       "      <th>mhc_type</th>\n",
       "      <th>tcr_v_allele</th>\n",
       "      <th>aa_tcr</th>\n",
       "      <th>aa_antigen</th>\n",
       "      <th>len_tcr</th>\n",
       "      <th>len_antigen</th>\n",
       "      <th>pos_tcr</th>\n",
       "      <th>pos_antigen</th>\n",
       "      <th>distance</th>\n",
       "    </tr>\n",
       "  </thead>\n",
       "  <tbody>\n",
       "    <tr>\n",
       "      <th>9</th>\n",
       "      <td>MHCI</td>\n",
       "      <td>alpha</td>\n",
       "      <td>A</td>\n",
       "      <td>L</td>\n",
       "      <td>13</td>\n",
       "      <td>9</td>\n",
       "      <td>-5</td>\n",
       "      <td>-4</td>\n",
       "      <td>False</td>\n",
       "    </tr>\n",
       "    <tr>\n",
       "      <th>10</th>\n",
       "      <td>MHCI</td>\n",
       "      <td>alpha</td>\n",
       "      <td>A</td>\n",
       "      <td>L</td>\n",
       "      <td>13</td>\n",
       "      <td>9</td>\n",
       "      <td>-5</td>\n",
       "      <td>-3</td>\n",
       "      <td>False</td>\n",
       "    </tr>\n",
       "    <tr>\n",
       "      <th>11</th>\n",
       "      <td>MHCI</td>\n",
       "      <td>alpha</td>\n",
       "      <td>A</td>\n",
       "      <td>F</td>\n",
       "      <td>13</td>\n",
       "      <td>9</td>\n",
       "      <td>-5</td>\n",
       "      <td>-2</td>\n",
       "      <td>False</td>\n",
       "    </tr>\n",
       "    <tr>\n",
       "      <th>12</th>\n",
       "      <td>MHCI</td>\n",
       "      <td>alpha</td>\n",
       "      <td>A</td>\n",
       "      <td>G</td>\n",
       "      <td>13</td>\n",
       "      <td>9</td>\n",
       "      <td>-5</td>\n",
       "      <td>-1</td>\n",
       "      <td>False</td>\n",
       "    </tr>\n",
       "    <tr>\n",
       "      <th>13</th>\n",
       "      <td>MHCI</td>\n",
       "      <td>alpha</td>\n",
       "      <td>A</td>\n",
       "      <td>Y</td>\n",
       "      <td>13</td>\n",
       "      <td>9</td>\n",
       "      <td>-5</td>\n",
       "      <td>0</td>\n",
       "      <td>False</td>\n",
       "    </tr>\n",
       "  </tbody>\n",
       "</table>\n",
       "</div>"
      ],
      "text/plain": [
       "   mhc_type tcr_v_allele aa_tcr aa_antigen  len_tcr  len_antigen  pos_tcr  \\\n",
       "9      MHCI        alpha      A          L       13            9       -5   \n",
       "10     MHCI        alpha      A          L       13            9       -5   \n",
       "11     MHCI        alpha      A          F       13            9       -5   \n",
       "12     MHCI        alpha      A          G       13            9       -5   \n",
       "13     MHCI        alpha      A          Y       13            9       -5   \n",
       "\n",
       "    pos_antigen distance  \n",
       "9            -4    False  \n",
       "10           -3    False  \n",
       "11           -2    False  \n",
       "12           -1    False  \n",
       "13            0    False  "
      ]
     },
     "execution_count": 14,
     "metadata": {},
     "output_type": "execute_result"
    }
   ],
   "source": [
    "df.head()"
   ]
  },
  {
   "cell_type": "markdown",
   "metadata": {},
   "source": [
    "## After classification vdjdb table in weka we plot the distribution of interaction energy "
   ]
  },
  {
   "cell_type": "code",
   "execution_count": 80,
   "metadata": {
    "collapsed": false,
    "scrolled": true
   },
   "outputs": [
    {
     "data": {
      "text/html": [
       "<div>\n",
       "<table border=\"1\" class=\"dataframe\">\n",
       "  <thead>\n",
       "    <tr style=\"text-align: right;\">\n",
       "      <th></th>\n",
       "      <th>pdb_id</th>\n",
       "      <th>mhc_type</th>\n",
       "      <th>tcr_v_allele</th>\n",
       "      <th>aa_tcr</th>\n",
       "      <th>aa_antigen</th>\n",
       "      <th>len_tcr</th>\n",
       "      <th>len_antigen</th>\n",
       "      <th>pos_tcr</th>\n",
       "      <th>pos_antigen</th>\n",
       "      <th>classification</th>\n",
       "      <th>miyazava_energy</th>\n",
       "    </tr>\n",
       "  </thead>\n",
       "  <tbody>\n",
       "    <tr>\n",
       "      <th>0</th>\n",
       "      <td>0</td>\n",
       "      <td>MHCI</td>\n",
       "      <td>beta</td>\n",
       "      <td>C</td>\n",
       "      <td>N</td>\n",
       "      <td>15</td>\n",
       "      <td>9</td>\n",
       "      <td>-7</td>\n",
       "      <td>-4</td>\n",
       "      <td>False</td>\n",
       "      <td>-2.59</td>\n",
       "    </tr>\n",
       "    <tr>\n",
       "      <th>1</th>\n",
       "      <td>0</td>\n",
       "      <td>MHCI</td>\n",
       "      <td>beta</td>\n",
       "      <td>C</td>\n",
       "      <td>L</td>\n",
       "      <td>15</td>\n",
       "      <td>9</td>\n",
       "      <td>-7</td>\n",
       "      <td>-3</td>\n",
       "      <td>False</td>\n",
       "      <td>-5.83</td>\n",
       "    </tr>\n",
       "    <tr>\n",
       "      <th>2</th>\n",
       "      <td>0</td>\n",
       "      <td>MHCI</td>\n",
       "      <td>beta</td>\n",
       "      <td>C</td>\n",
       "      <td>V</td>\n",
       "      <td>15</td>\n",
       "      <td>9</td>\n",
       "      <td>-7</td>\n",
       "      <td>-2</td>\n",
       "      <td>False</td>\n",
       "      <td>-4.96</td>\n",
       "    </tr>\n",
       "    <tr>\n",
       "      <th>3</th>\n",
       "      <td>0</td>\n",
       "      <td>MHCI</td>\n",
       "      <td>beta</td>\n",
       "      <td>C</td>\n",
       "      <td>P</td>\n",
       "      <td>15</td>\n",
       "      <td>9</td>\n",
       "      <td>-7</td>\n",
       "      <td>-1</td>\n",
       "      <td>False</td>\n",
       "      <td>-3.07</td>\n",
       "    </tr>\n",
       "    <tr>\n",
       "      <th>4</th>\n",
       "      <td>0</td>\n",
       "      <td>MHCI</td>\n",
       "      <td>beta</td>\n",
       "      <td>C</td>\n",
       "      <td>M</td>\n",
       "      <td>15</td>\n",
       "      <td>9</td>\n",
       "      <td>-7</td>\n",
       "      <td>0</td>\n",
       "      <td>False</td>\n",
       "      <td>-4.99</td>\n",
       "    </tr>\n",
       "  </tbody>\n",
       "</table>\n",
       "</div>"
      ],
      "text/plain": [
       "   pdb_id mhc_type tcr_v_allele aa_tcr aa_antigen  len_tcr  len_antigen  \\\n",
       "0       0     MHCI         beta      C          N       15            9   \n",
       "1       0     MHCI         beta      C          L       15            9   \n",
       "2       0     MHCI         beta      C          V       15            9   \n",
       "3       0     MHCI         beta      C          P       15            9   \n",
       "4       0     MHCI         beta      C          M       15            9   \n",
       "\n",
       "   pos_tcr  pos_antigen classification  miyazava_energy  \n",
       "0       -7           -4          False            -2.59  \n",
       "1       -7           -3          False            -5.83  \n",
       "2       -7           -2          False            -4.96  \n",
       "3       -7           -1          False            -3.07  \n",
       "4       -7            0          False            -4.99  "
      ]
     },
     "execution_count": 80,
     "metadata": {},
     "output_type": "execute_result"
    }
   ],
   "source": [
    "vdjdb_classified = pd.read_csv('weka/class_via_distance/dist10/with_aa_names_100_trees/vdjdb_dist10_with_aa_names_classified.csv')\n",
    "vdjdb_classified.insert(0, 'pdb_id', list(vdjdb['tcr_id']))\n",
    "# in case if amino acids columns were deleted {\n",
    "#vdjdb_classified.insert(3, 'aa_antigen', list(vdjdb['aa_antigen']))\n",
    "#vdjdb_classified.insert(3, 'aa_tcr', list(vdjdb['aa_tcr']))\n",
    "# }\n",
    "vdjdb_classified.loc[:, 'miyazava_energy'] = 0\n",
    "for x in range(vdjdb_classified.shape[0]):\n",
    "    vdjdb_classified.iloc[x, -1] = nrg_mat.loc[vdjdb_classified.iloc[x, -7], vdjdb_classified.iloc[x, -8]]\n",
    "set(vdjdb_classified['aa_antigen'])\n",
    "vdjdb_classified.head()"
   ]
  },
  {
   "cell_type": "code",
   "execution_count": 92,
   "metadata": {
    "collapsed": false
   },
   "outputs": [
    {
     "data": {
      "text/plain": [
       "<matplotlib.text.Text at 0x7ff1ae721fd0>"
      ]
     },
     "execution_count": 92,
     "metadata": {},
     "output_type": "execute_result"
    },
    {
     "data": {
      "image/png": "[encoded data removed]",
      "text/plain": [
       "<matplotlib.figure.Figure at 0x7ff1aeaf8250>"
      ]
     },
     "metadata": {},
     "output_type": "display_data"
    }
   ],
   "source": [
    "grouped_classified = vdjdb_classified.groupby('pdb_id')\n",
    "rec_energy = [sum(grouped_classified.get_group(x).loc[(grouped_classified.get_group(x)['classification']) & \\\n",
    "              (grouped_classified.get_group(x)['tcr_v_allele'] == 'beta'), 'miyazava_energy']) \\\n",
    "              for x in grouped_classified.groups.keys()]\n",
    "sns.distplot(rec_energy, bins=50, kde=True)\n",
    "plt.axis([-170, 0, 0, 0.03])\n",
    "plt.xlabel('Energy CDR3/Antigen')"
   ]
  },
  {
   "cell_type": "markdown",
   "metadata": {},
   "source": [
    "## Now we mix the antigens in vdjdb table so that they were incorrectly matched with cdr3s, classify again and plot the distribution "
   ]
  },
  {
   "cell_type": "code",
   "execution_count": 71,
   "metadata": {
    "collapsed": false,
    "scrolled": true
   },
   "outputs": [],
   "source": [
    "vdjdb_mixed = pd.DataFrame(pd.read_table('vdjdb.txt'))\n",
    "vdjdb_mixed = vdjdb_mixed[['#cdr3aa', 'chain', 'mhc', 'antigen_seq']]\n",
    "\n",
    "#print vdjdb_mixed.shape[0]\n",
    "vdjdb_mixed.dropna(inplace=True)\n",
    "vdjdb_mixed.drop_duplicates(subset=['#cdr3aa', 'antigen_seq'], keep='first', inplace=True)\n",
    "vdjdb_mixed = vdjdb_mixed[vdjdb_mixed['#cdr3aa'].str.isalpha() & vdjdb_mixed['antigen_seq'].str.isalpha()]\n",
    "\n",
    "grouped_mixed = vdjdb_mixed.groupby('antigen_seq')\n",
    "antigens = grouped_mixed.groups.keys()\n",
    "def change_antigen_column(i):\n",
    "    table = grouped_mixed.get_group(antigens[i])\n",
    "    table.loc[:, 'antigen_seq'] = antigens[i - 1]\n",
    "    return table\n",
    "\n",
    "vdjdb_mixed = pd.concat([change_antigen_column(i) for i in range(len(antigens))])\n",
    "vdjdb_mixed.index = vdjdb_mixed['id'] = range(vdjdb_mixed.shape[0])\n",
    "\n",
    "vdjdb_mixed = pd.concat([process_single_line(vdjdb_mixed.iloc[x, :]) for x in range(vdjdb_mixed.shape[0])])\n",
    "#vdjdb_mixed = vdjdb_mixed[vdjdb_mixed['aa_tcr'].str.isalpha() & vdjdb_mixed['aa_antigen'].str.isalpha()]\n",
    "vdjdb_mixed.head()\n",
    "vdjdb_mixed['distance'] = True\n",
    "vdjdb_mixed.iloc[:, 1:].to_csv('vdjdb_mixed.csv', index=None)\n"
   ]
  },
  {
   "cell_type": "code",
   "execution_count": 52,
   "metadata": {
    "collapsed": false,
    "scrolled": true
   },
   "outputs": [
    {
     "data": {
      "text/html": [
       "<div>\n",
       "<table border=\"1\" class=\"dataframe\">\n",
       "  <thead>\n",
       "    <tr style=\"text-align: right;\">\n",
       "      <th></th>\n",
       "      <th>tcr_id</th>\n",
       "      <th>mhc_type</th>\n",
       "      <th>tcr_v_allele</th>\n",
       "      <th>aa_tcr</th>\n",
       "      <th>aa_antigen</th>\n",
       "      <th>len_tcr</th>\n",
       "      <th>len_antigen</th>\n",
       "      <th>pos_tcr</th>\n",
       "      <th>pos_antigen</th>\n",
       "      <th>distance</th>\n",
       "    </tr>\n",
       "  </thead>\n",
       "  <tbody>\n",
       "    <tr>\n",
       "      <th>0</th>\n",
       "      <td>0</td>\n",
       "      <td>MHCI</td>\n",
       "      <td>beta</td>\n",
       "      <td>C</td>\n",
       "      <td>N</td>\n",
       "      <td>14</td>\n",
       "      <td>9</td>\n",
       "      <td>-7</td>\n",
       "      <td>-4</td>\n",
       "      <td>True</td>\n",
       "    </tr>\n",
       "    <tr>\n",
       "      <th>1</th>\n",
       "      <td>0</td>\n",
       "      <td>MHCI</td>\n",
       "      <td>beta</td>\n",
       "      <td>C</td>\n",
       "      <td>L</td>\n",
       "      <td>14</td>\n",
       "      <td>9</td>\n",
       "      <td>-7</td>\n",
       "      <td>-3</td>\n",
       "      <td>True</td>\n",
       "    </tr>\n",
       "    <tr>\n",
       "      <th>2</th>\n",
       "      <td>0</td>\n",
       "      <td>MHCI</td>\n",
       "      <td>beta</td>\n",
       "      <td>C</td>\n",
       "      <td>V</td>\n",
       "      <td>14</td>\n",
       "      <td>9</td>\n",
       "      <td>-7</td>\n",
       "      <td>-2</td>\n",
       "      <td>True</td>\n",
       "    </tr>\n",
       "    <tr>\n",
       "      <th>3</th>\n",
       "      <td>0</td>\n",
       "      <td>MHCI</td>\n",
       "      <td>beta</td>\n",
       "      <td>C</td>\n",
       "      <td>P</td>\n",
       "      <td>14</td>\n",
       "      <td>9</td>\n",
       "      <td>-7</td>\n",
       "      <td>-1</td>\n",
       "      <td>True</td>\n",
       "    </tr>\n",
       "    <tr>\n",
       "      <th>4</th>\n",
       "      <td>0</td>\n",
       "      <td>MHCI</td>\n",
       "      <td>beta</td>\n",
       "      <td>C</td>\n",
       "      <td>M</td>\n",
       "      <td>14</td>\n",
       "      <td>9</td>\n",
       "      <td>-7</td>\n",
       "      <td>0</td>\n",
       "      <td>True</td>\n",
       "    </tr>\n",
       "  </tbody>\n",
       "</table>\n",
       "</div>"
      ],
      "text/plain": [
       "   tcr_id mhc_type tcr_v_allele aa_tcr aa_antigen  len_tcr  len_antigen  \\\n",
       "0       0     MHCI         beta      C          N       14            9   \n",
       "1       0     MHCI         beta      C          L       14            9   \n",
       "2       0     MHCI         beta      C          V       14            9   \n",
       "3       0     MHCI         beta      C          P       14            9   \n",
       "4       0     MHCI         beta      C          M       14            9   \n",
       "\n",
       "  pos_tcr pos_antigen distance  \n",
       "0      -7          -4     True  \n",
       "1      -7          -3     True  \n",
       "2      -7          -2     True  \n",
       "3      -7          -1     True  \n",
       "4      -7           0     True  "
      ]
     },
     "execution_count": 52,
     "metadata": {},
     "output_type": "execute_result"
    }
   ],
   "source": [
    "vdjdb_mixed.head()"
   ]
  },
  {
   "cell_type": "code",
   "execution_count": 84,
   "metadata": {
    "collapsed": false
   },
   "outputs": [
    {
     "data": {
      "text/html": [
       "<div>\n",
       "<table border=\"1\" class=\"dataframe\">\n",
       "  <thead>\n",
       "    <tr style=\"text-align: right;\">\n",
       "      <th></th>\n",
       "      <th>pdb_id</th>\n",
       "      <th>mhc_type</th>\n",
       "      <th>tcr_v_allele</th>\n",
       "      <th>aa_tcr</th>\n",
       "      <th>aa_antigen</th>\n",
       "      <th>len_tcr</th>\n",
       "      <th>len_antigen</th>\n",
       "      <th>pos_tcr</th>\n",
       "      <th>pos_antigen</th>\n",
       "      <th>classification</th>\n",
       "      <th>miyazava_energy</th>\n",
       "    </tr>\n",
       "  </thead>\n",
       "  <tbody>\n",
       "    <tr>\n",
       "      <th>0</th>\n",
       "      <td>0</td>\n",
       "      <td>MHCI</td>\n",
       "      <td>beta</td>\n",
       "      <td>C</td>\n",
       "      <td>N</td>\n",
       "      <td>14</td>\n",
       "      <td>9</td>\n",
       "      <td>-7</td>\n",
       "      <td>-4</td>\n",
       "      <td>False</td>\n",
       "      <td>-2.59</td>\n",
       "    </tr>\n",
       "    <tr>\n",
       "      <th>1</th>\n",
       "      <td>0</td>\n",
       "      <td>MHCI</td>\n",
       "      <td>beta</td>\n",
       "      <td>C</td>\n",
       "      <td>L</td>\n",
       "      <td>14</td>\n",
       "      <td>9</td>\n",
       "      <td>-7</td>\n",
       "      <td>-3</td>\n",
       "      <td>False</td>\n",
       "      <td>-5.83</td>\n",
       "    </tr>\n",
       "    <tr>\n",
       "      <th>2</th>\n",
       "      <td>0</td>\n",
       "      <td>MHCI</td>\n",
       "      <td>beta</td>\n",
       "      <td>C</td>\n",
       "      <td>V</td>\n",
       "      <td>14</td>\n",
       "      <td>9</td>\n",
       "      <td>-7</td>\n",
       "      <td>-2</td>\n",
       "      <td>False</td>\n",
       "      <td>-4.96</td>\n",
       "    </tr>\n",
       "    <tr>\n",
       "      <th>3</th>\n",
       "      <td>0</td>\n",
       "      <td>MHCI</td>\n",
       "      <td>beta</td>\n",
       "      <td>C</td>\n",
       "      <td>P</td>\n",
       "      <td>14</td>\n",
       "      <td>9</td>\n",
       "      <td>-7</td>\n",
       "      <td>-1</td>\n",
       "      <td>False</td>\n",
       "      <td>-3.07</td>\n",
       "    </tr>\n",
       "    <tr>\n",
       "      <th>4</th>\n",
       "      <td>0</td>\n",
       "      <td>MHCI</td>\n",
       "      <td>beta</td>\n",
       "      <td>C</td>\n",
       "      <td>M</td>\n",
       "      <td>14</td>\n",
       "      <td>9</td>\n",
       "      <td>-7</td>\n",
       "      <td>0</td>\n",
       "      <td>False</td>\n",
       "      <td>-4.99</td>\n",
       "    </tr>\n",
       "  </tbody>\n",
       "</table>\n",
       "</div>"
      ],
      "text/plain": [
       "   pdb_id mhc_type tcr_v_allele aa_tcr aa_antigen  len_tcr  len_antigen  \\\n",
       "0       0     MHCI         beta      C          N       14            9   \n",
       "1       0     MHCI         beta      C          L       14            9   \n",
       "2       0     MHCI         beta      C          V       14            9   \n",
       "3       0     MHCI         beta      C          P       14            9   \n",
       "4       0     MHCI         beta      C          M       14            9   \n",
       "\n",
       "   pos_tcr  pos_antigen classification  miyazava_energy  \n",
       "0       -7           -4          False            -2.59  \n",
       "1       -7           -3          False            -5.83  \n",
       "2       -7           -2          False            -4.96  \n",
       "3       -7           -1          False            -3.07  \n",
       "4       -7            0          False            -4.99  "
      ]
     },
     "execution_count": 84,
     "metadata": {},
     "output_type": "execute_result"
    }
   ],
   "source": [
    "vdjdb_mixed_classified = pd.read_csv('weka/class_via_distance/dist10/with_aa_names_100_trees/vdjdb_mixed_dist10_with_aa_names_classified.csv')\n",
    "vdjdb_mixed_classified.insert(0, 'pdb_id', list(vdjdb_mixed['tcr_id']))\n",
    "# in case if amino acids columns were deleted {\n",
    "#vdjdb_mixed_classified.insert(3, 'aa_antigen', list(vdjdb_mixed['aa_antigen']))\n",
    "#vdjdb_mixed_classified.insert(3, 'aa_tcr', list(vdjdb_mixed['aa_tcr']))\n",
    "# }\n",
    "vdjdb_mixed_classified.loc[:, 'miyazava_energy'] = 0\n",
    "for x in range(vdjdb_mixed_classified.shape[0]):\n",
    "    vdjdb_mixed_classified.iloc[x, -1] = nrg_mat.loc[vdjdb_mixed_classified.iloc[x, -7], vdjdb_mixed_classified.iloc[x, -8]]\n",
    "#set(vdjdb_classified['aa_antigen'])\n",
    "vdjdb_mixed_classified.head()"
   ]
  },
  {
   "cell_type": "code",
   "execution_count": 94,
   "metadata": {
    "collapsed": false
   },
   "outputs": [
    {
     "data": {
      "text/plain": [
       "<matplotlib.text.Text at 0x7ff1ae547bd0>"
      ]
     },
     "execution_count": 94,
     "metadata": {},
     "output_type": "execute_result"
    },
    {
     "data": {
      "image/png": "[encoded data removed]",
      "text/plain": [
       "<matplotlib.figure.Figure at 0x7ff1ae8d0a10>"
      ]
     },
     "metadata": {},
     "output_type": "display_data"
    }
   ],
   "source": [
    "grouped_classified = vdjdb_classified.groupby('pdb_id')\n",
    "rec_energy1 = [sum(grouped_classified.get_group(x).loc[(grouped_classified.get_group(x)['classification']) & \\\n",
    "              (grouped_classified.get_group(x)['tcr_v_allele'] == 'beta'), 'miyazava_energy']) \\\n",
    "              for x in grouped_classified.groups.keys()]\n",
    "sns.distplot(rec_energy1, bins=50, kde=False)\n",
    "\n",
    "\n",
    "grouped_mixed_classified = vdjdb_mixed_classified.groupby('pdb_id')\n",
    "rec_energy2 = [sum(grouped_mixed_classified.get_group(x).loc[(grouped_mixed_classified.get_group(x)['classification']) & \\\n",
    "              (grouped_mixed_classified.get_group(x)['tcr_v_allele'] == 'beta'), 'miyazava_energy']) \\\n",
    "              for x in grouped_mixed_classified.groups.keys()]\n",
    "sns.distplot(rec_energy2, bins=50, kde=False)\n",
    "plt.axis([-170, 0, 0, 30])\n",
    "plt.xlabel('Energy CDR3/Antigen')"
   ]
  },
  {
   "cell_type": "code",
   "execution_count": null,
   "metadata": {
    "collapsed": true
   },
   "outputs": [],
   "source": []
  }
 ],
 "metadata": {
  "kernelspec": {
   "display_name": "Python 2",
   "language": "python",
   "name": "python2"
  },
  "language_info": {
   "codemirror_mode": {
    "name": "ipython",
    "version": 2
   },
   "file_extension": ".py",
   "mimetype": "text/x-python",
   "name": "python",
   "nbconvert_exporter": "python",
   "pygments_lexer": "ipython2",
   "version": "2.7.10"
  }
 },
 "nbformat": 4,
 "nbformat_minor": 0
}
